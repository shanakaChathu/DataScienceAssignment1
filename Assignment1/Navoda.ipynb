{
 "cells": [
  {
   "cell_type": "markdown",
   "metadata": {},
   "source": [
    "Test : Correlation between Age and Earnings"
   ]
  },
  {
   "cell_type": "markdown",
   "metadata": {},
   "source": [
    "Hypothesis  ρ - Corrilation cofficient\n",
    "Null hypothesis H0: ρ = 0\n",
    "Alternative hypothesis HA: ρ != 0"
   ]
  },
  {
   "cell_type": "code",
   "execution_count": 8,
   "metadata": {},
   "outputs": [
    {
     "name": "stdout",
     "output_type": "stream",
     "text": [
      "            intnum      persnum          age      educatn       earnings  \\\n",
      "count  4630.000000  4630.000000  4630.000000  4630.000000    4630.000000   \n",
      "mean   4571.346220    58.830022    38.475594    12.363931   14339.396976   \n",
      "std    2761.022495    79.532517     5.583451     3.053557   16008.425389   \n",
      "min       4.000000     1.000000    30.000000     0.000000       0.000000   \n",
      "25%    1875.000000     2.000000    34.000000    12.000000     202.500000   \n",
      "50%    5450.500000     4.000000    38.000000    12.000000   11000.000000   \n",
      "75%    6635.000000   170.000000    43.000000    14.000000   22016.500000   \n",
      "max    9306.000000   200.000000    50.000000    17.000000  240000.000000   \n",
      "\n",
      "             hours         kids  \n",
      "count  4630.000000  4630.000000  \n",
      "mean   1243.719870     4.270842  \n",
      "std     944.015252    14.193950  \n",
      "min       0.000000     0.000000  \n",
      "25%      66.000000     1.000000  \n",
      "50%    1521.500000     2.000000  \n",
      "75%    2000.000000     3.000000  \n",
      "max    5160.000000    99.000000  \n"
     ]
    }
   ],
   "source": [
    "import pandas as pd\n",
    "from pandas import DataFrame\n",
    "\n",
    "df = pd.read_csv('..\\Dataset\\dataEdited.csv', index_col = 'Seq No')\n",
    "#df['H-L'] = df.High - df.Low\n",
    "\n",
    "print(df.describe())"
   ]
  },
  {
   "cell_type": "code",
   "execution_count": 7,
   "metadata": {},
   "outputs": [
    {
     "data": {
      "text/plain": [
       "0.08322310235234769"
      ]
     },
     "execution_count": 7,
     "metadata": {},
     "output_type": "execute_result"
    }
   ],
   "source": [
    "df['age'].corr(df['earnings'])"
   ]
  },
  {
   "cell_type": "markdown",
   "metadata": {},
   "source": [
    "Results : since the 0.08 is too small that 0.7 we can reject the null hypothisis. No relation is Age and Earning"
   ]
  }
 ],
 "metadata": {
  "kernelspec": {
   "display_name": "Python 3",
   "language": "python",
   "name": "python3"
  },
  "language_info": {
   "codemirror_mode": {
    "name": "ipython",
    "version": 3
   },
   "file_extension": ".py",
   "mimetype": "text/x-python",
   "name": "python",
   "nbconvert_exporter": "python",
   "pygments_lexer": "ipython3",
   "version": "3.7.1"
  }
 },
 "nbformat": 4,
 "nbformat_minor": 2
}
