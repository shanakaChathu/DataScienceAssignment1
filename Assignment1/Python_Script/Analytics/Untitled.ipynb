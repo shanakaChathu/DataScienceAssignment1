{
 "cells": [
  {
   "cell_type": "code",
   "execution_count": 15,
   "metadata": {},
   "outputs": [],
   "source": [
    "#Importing libraries \n",
    "import numpy as np\n",
    "import pandas as pd\n",
    "import scipy\n",
    "from scipy.stats import ttest_ind"
   ]
  },
  {
   "cell_type": "code",
   "execution_count": 5,
   "metadata": {},
   "outputs": [
    {
     "name": "stdout",
     "output_type": "stream",
     "text": [
      "   Seq No  intnum  persnum  age  educatn  earnings  hours  kids   married\n",
      "0       1       4        4   39     12.0     77250   2940     2   married\n",
      "1       2       4        6   35     12.0     12000   2040     2  divorced\n"
     ]
    },
    {
     "data": {
      "text/plain": [
       "(4856, 9)"
      ]
     },
     "execution_count": 5,
     "metadata": {},
     "output_type": "execute_result"
    }
   ],
   "source": [
    "#Importing csv\n",
    "data=pd.read_csv(\"data.csv\")\n",
    "print(data.head(2))\n",
    "data.shape"
   ]
  },
  {
   "cell_type": "code",
   "execution_count": 14,
   "metadata": {},
   "outputs": [],
   "source": [
    "#Data Cleaning \n",
    "temp=data[data['kids']<98]\n",
    "data=temp[temp['educatn']<98]\n",
    "data.shape\n",
    "data.to_csv(\"dataEdited.csv\",index=False)"
   ]
  },
  {
   "cell_type": "code",
   "execution_count": 7,
   "metadata": {},
   "outputs": [
    {
     "name": "stderr",
     "output_type": "stream",
     "text": [
      "C:\\Users\\199309K\\AppData\\Local\\Continuum\\anaconda3\\lib\\site-packages\\ipykernel_launcher.py:1: SettingWithCopyWarning: \n",
      "A value is trying to be set on a copy of a slice from a DataFrame.\n",
      "Try using .loc[row_indexer,col_indexer] = value instead\n",
      "\n",
      "See the caveats in the documentation: http://pandas.pydata.org/pandas-docs/stable/indexing.html#indexing-view-versus-copy\n",
      "  \"\"\"Entry point for launching an IPython kernel.\n",
      "C:\\Users\\199309K\\AppData\\Local\\Continuum\\anaconda3\\lib\\site-packages\\ipykernel_launcher.py:2: SettingWithCopyWarning: \n",
      "A value is trying to be set on a copy of a slice from a DataFrame.\n",
      "Try using .loc[row_indexer,col_indexer] = value instead\n",
      "\n",
      "See the caveats in the documentation: http://pandas.pydata.org/pandas-docs/stable/indexing.html#indexing-view-versus-copy\n",
      "  \n"
     ]
    },
    {
     "data": {
      "text/html": [
       "<div>\n",
       "<style scoped>\n",
       "    .dataframe tbody tr th:only-of-type {\n",
       "        vertical-align: middle;\n",
       "    }\n",
       "\n",
       "    .dataframe tbody tr th {\n",
       "        vertical-align: top;\n",
       "    }\n",
       "\n",
       "    .dataframe thead th {\n",
       "        text-align: right;\n",
       "    }\n",
       "</style>\n",
       "<table border=\"1\" class=\"dataframe\">\n",
       "  <thead>\n",
       "    <tr style=\"text-align: right;\">\n",
       "      <th></th>\n",
       "      <th>Seq No</th>\n",
       "      <th>intnum</th>\n",
       "      <th>persnum</th>\n",
       "      <th>age</th>\n",
       "      <th>educatn</th>\n",
       "      <th>earnings</th>\n",
       "      <th>hours</th>\n",
       "      <th>kids</th>\n",
       "      <th>married</th>\n",
       "      <th>kidsNew</th>\n",
       "      <th>marriedNew</th>\n",
       "    </tr>\n",
       "  </thead>\n",
       "  <tbody>\n",
       "    <tr>\n",
       "      <th>0</th>\n",
       "      <td>1</td>\n",
       "      <td>4</td>\n",
       "      <td>4</td>\n",
       "      <td>39</td>\n",
       "      <td>12.0</td>\n",
       "      <td>77250</td>\n",
       "      <td>2940</td>\n",
       "      <td>2</td>\n",
       "      <td>married</td>\n",
       "      <td>k1</td>\n",
       "      <td>m1</td>\n",
       "    </tr>\n",
       "    <tr>\n",
       "      <th>1</th>\n",
       "      <td>2</td>\n",
       "      <td>4</td>\n",
       "      <td>6</td>\n",
       "      <td>35</td>\n",
       "      <td>12.0</td>\n",
       "      <td>12000</td>\n",
       "      <td>2040</td>\n",
       "      <td>2</td>\n",
       "      <td>divorced</td>\n",
       "      <td>k1</td>\n",
       "      <td>m2</td>\n",
       "    </tr>\n",
       "  </tbody>\n",
       "</table>\n",
       "</div>"
      ],
      "text/plain": [
       "   Seq No  intnum  persnum  age  educatn  earnings  hours  kids   married  \\\n",
       "0       1       4        4   39     12.0     77250   2940     2   married   \n",
       "1       2       4        6   35     12.0     12000   2040     2  divorced   \n",
       "\n",
       "  kidsNew marriedNew  \n",
       "0      k1         m1  \n",
       "1      k1         m2  "
      ]
     },
     "execution_count": 7,
     "metadata": {},
     "output_type": "execute_result"
    }
   ],
   "source": [
    "data['kidsNew']=np.where(data['kids']<=2,'k1','k2')\n",
    "data['marriedNew']=np.where(data['married']=='married','m1','m2')\n",
    "data.head(2)"
   ]
  },
  {
   "cell_type": "code",
   "execution_count": 24,
   "metadata": {},
   "outputs": [],
   "source": [
    "#Two sample T test \n",
    "x=data[data['kidsNew']=='k1'].earnings\n",
    "y=data[data['kidsNew']=='k2'].earnings\n",
    "\n",
    "stat, p = ttest_ind(x,y)"
   ]
  },
  {
   "cell_type": "code",
   "execution_count": 25,
   "metadata": {},
   "outputs": [
    {
     "data": {
      "text/plain": [
       "2.408020927453231e-41"
      ]
     },
     "execution_count": 25,
     "metadata": {},
     "output_type": "execute_result"
    }
   ],
   "source": [
    "p"
   ]
  }
 ],
 "metadata": {
  "kernelspec": {
   "display_name": "Python 3",
   "language": "python",
   "name": "python3"
  },
  "language_info": {
   "codemirror_mode": {
    "name": "ipython",
    "version": 3
   },
   "file_extension": ".py",
   "mimetype": "text/x-python",
   "name": "python",
   "nbconvert_exporter": "python",
   "pygments_lexer": "ipython3",
   "version": "3.7.1"
  }
 },
 "nbformat": 4,
 "nbformat_minor": 2
}
