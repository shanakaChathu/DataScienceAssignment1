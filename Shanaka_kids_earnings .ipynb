{
 "cells": [
  {
   "cell_type": "code",
   "execution_count": 24,
   "metadata": {},
   "outputs": [],
   "source": [
    "import pandas as pd\n",
    "import numpy as np\n",
    "import scipy.stats as st\n",
    "import numpy as np\n",
    "from scipy import stats\n",
    "from scipy.stats import ttest_ind\n",
    "import matplotlib.pyplot as plt\n",
    "import seaborn as sns\n",
    "\n",
    "%matplotlib inline"
   ]
  },
  {
   "cell_type": "code",
   "execution_count": 2,
   "metadata": {},
   "outputs": [
    {
     "data": {
      "text/plain": [
       "(4856, 9)"
      ]
     },
     "execution_count": 2,
     "metadata": {},
     "output_type": "execute_result"
    }
   ],
   "source": [
    "data=pd.read_csv(\"data.csv\")\n",
    "data.shape"
   ]
  },
  {
   "cell_type": "code",
   "execution_count": 3,
   "metadata": {},
   "outputs": [
    {
     "data": {
      "text/plain": [
       "(4528, 9)"
      ]
     },
     "execution_count": 3,
     "metadata": {},
     "output_type": "execute_result"
    }
   ],
   "source": [
    "#Data Cleaning \n",
    "temp=data[data['kids']<98]\n",
    "data=temp[temp['educatn']<98]\n",
    "data.shape"
   ]
  },
  {
   "cell_type": "code",
   "execution_count": 6,
   "metadata": {},
   "outputs": [
    {
     "data": {
      "text/html": [
       "<div>\n",
       "<style scoped>\n",
       "    .dataframe tbody tr th:only-of-type {\n",
       "        vertical-align: middle;\n",
       "    }\n",
       "\n",
       "    .dataframe tbody tr th {\n",
       "        vertical-align: top;\n",
       "    }\n",
       "\n",
       "    .dataframe thead th {\n",
       "        text-align: right;\n",
       "    }\n",
       "</style>\n",
       "<table border=\"1\" class=\"dataframe\">\n",
       "  <thead>\n",
       "    <tr style=\"text-align: right;\">\n",
       "      <th></th>\n",
       "      <th>Seq No</th>\n",
       "      <th>intnum</th>\n",
       "      <th>persnum</th>\n",
       "      <th>age</th>\n",
       "      <th>educatn</th>\n",
       "      <th>earnings</th>\n",
       "      <th>hours</th>\n",
       "      <th>kids</th>\n",
       "      <th>married</th>\n",
       "      <th>kidsNew</th>\n",
       "    </tr>\n",
       "  </thead>\n",
       "  <tbody>\n",
       "    <tr>\n",
       "      <th>0</th>\n",
       "      <td>1</td>\n",
       "      <td>4</td>\n",
       "      <td>4</td>\n",
       "      <td>39</td>\n",
       "      <td>12.0</td>\n",
       "      <td>77250</td>\n",
       "      <td>2940</td>\n",
       "      <td>2</td>\n",
       "      <td>married</td>\n",
       "      <td>k1</td>\n",
       "    </tr>\n",
       "    <tr>\n",
       "      <th>1</th>\n",
       "      <td>2</td>\n",
       "      <td>4</td>\n",
       "      <td>6</td>\n",
       "      <td>35</td>\n",
       "      <td>12.0</td>\n",
       "      <td>12000</td>\n",
       "      <td>2040</td>\n",
       "      <td>2</td>\n",
       "      <td>divorced</td>\n",
       "      <td>k1</td>\n",
       "    </tr>\n",
       "  </tbody>\n",
       "</table>\n",
       "</div>"
      ],
      "text/plain": [
       "   Seq No  intnum  persnum  age  educatn  earnings  hours  kids   married  \\\n",
       "0       1       4        4   39     12.0     77250   2940     2   married   \n",
       "1       2       4        6   35     12.0     12000   2040     2  divorced   \n",
       "\n",
       "  kidsNew  \n",
       "0      k1  \n",
       "1      k1  "
      ]
     },
     "execution_count": 6,
     "metadata": {},
     "output_type": "execute_result"
    }
   ],
   "source": [
    "data.head(2)"
   ]
  },
  {
   "cell_type": "markdown",
   "metadata": {},
   "source": [
    "Number of kids are segmented as the \n",
    "k1: Number of Kids are less than or equal 2 \n",
    "k2: Number of kides are greater than 2 "
   ]
  },
  {
   "cell_type": "code",
   "execution_count": 10,
   "metadata": {},
   "outputs": [
    {
     "name": "stderr",
     "output_type": "stream",
     "text": [
      "C:\\ProgramData\\Anaconda3\\lib\\site-packages\\ipykernel_launcher.py:1: SettingWithCopyWarning: \n",
      "A value is trying to be set on a copy of a slice from a DataFrame.\n",
      "Try using .loc[row_indexer,col_indexer] = value instead\n",
      "\n",
      "See the caveats in the documentation: http://pandas.pydata.org/pandas-docs/stable/indexing.html#indexing-view-versus-copy\n",
      "  \"\"\"Entry point for launching an IPython kernel.\n"
     ]
    }
   ],
   "source": [
    "data['kidsNew']=np.where(data['kids']<=2,'k1','k2')\n",
    "x=data[(data['kidsNew']=='k1') & (data['earnings']>0) ].earnings\n",
    "y=data[(data['kidsNew']=='k2') & (data['earnings']>0) ].earnings\n",
    "\n",
    "stat, p = ttest_ind(x,y)"
   ]
  },
  {
   "cell_type": "code",
   "execution_count": 13,
   "metadata": {},
   "outputs": [
    {
     "name": "stdout",
     "output_type": "stream",
     "text": [
      "20900.018439108062\n",
      "(20208.801278639647, 21591.235599576477)\n"
     ]
    }
   ],
   "source": [
    "#Average  earnings and confidence interval for the families less than or equal 2 kids \n",
    "print(np.mean(x))\n",
    "print(st.t.interval(0.95, len(x)-1, loc=np.mean(x), scale=st.sem(x)))"
   ]
  },
  {
   "cell_type": "code",
   "execution_count": 14,
   "metadata": {},
   "outputs": [
    {
     "name": "stdout",
     "output_type": "stream",
     "text": [
      "14959.685891748004\n",
      "(14238.234814396603, 15681.136969099405)\n"
     ]
    }
   ],
   "source": [
    "#Average  earnings and confidence interval for the families greater than 2 kids \n",
    "print(np.mean(y))\n",
    "print(st.t.interval(0.95, len(y)-1, loc=np.mean(y), scale=st.sem(y)))"
   ]
  },
  {
   "cell_type": "markdown",
   "metadata": {},
   "source": [
    "Hypothesis Test \n",
    "\n",
    "H0: Average earnings for group k1\n",
    "H1: Average earnings for group k2  \n",
    "\n",
    "Decision : According to the 2 -sample t test it can be seen that p_value is less then 0.05. Therefore we reject h0 at 0.05 significance level \n",
    "\n",
    "Conclusion: Average earnings according to the 2 groups have significant difference \n",
    "\n",
    "95% confidence interval for Average earnings(per year) for group k1 (20208.801278639647, 21591.235599576477)\n",
    "\n",
    "95% confidence interval for Average earnings(per year) other group k2 (14238.234814396603, 15681.136969099405)\n",
    "\n"
   ]
  },
  {
   "cell_type": "code",
   "execution_count": 27,
   "metadata": {},
   "outputs": [
    {
     "data": {
      "image/png": "[encoded data removed]",
      "text/plain": [
       "<matplotlib.figure.Figure at 0x2bc628dd390>"
      ]
     },
     "metadata": {},
     "output_type": "display_data"
    }
   ],
   "source": [
    "#Visualization of earnings  according to the 2 groups  \n",
    "sns.boxplot( x=data['earnings'], y=data[\"kidsNew\"] )\n",
    "plt.show()"
   ]
  },
  {
   "cell_type": "code",
   "execution_count": 29,
   "metadata": {},
   "outputs": [
    {
     "data": {
      "text/plain": [
       "<matplotlib.axes._subplots.AxesSubplot at 0x2bc62220588>"
      ]
     },
     "execution_count": 29,
     "metadata": {},
     "output_type": "execute_result"
    },
    {
     "data": {
      "image/png": "[encoded data removed]",
      "text/plain": [
       "<matplotlib.figure.Figure at 0x2bc62296400>"
      ]
     },
     "metadata": {},
     "output_type": "display_data"
    }
   ],
   "source": [
    "# Method 1: on the same Axis\n",
    "sns.distplot( x , color=\"red\", label=\"k1-earnings\")\n",
    "sns.distplot( y , color=\"blue\", label=\"k2-earnings\")"
   ]
  }
 ],
 "metadata": {
  "kernelspec": {
   "display_name": "Python 3",
   "language": "python",
   "name": "python3"
  },
  "language_info": {
   "codemirror_mode": {
    "name": "ipython",
    "version": 3
   },
   "file_extension": ".py",
   "mimetype": "text/x-python",
   "name": "python",
   "nbconvert_exporter": "python",
   "pygments_lexer": "ipython3",
   "version": "3.6.4"
  }
 },
 "nbformat": 4,
 "nbformat_minor": 2
}
