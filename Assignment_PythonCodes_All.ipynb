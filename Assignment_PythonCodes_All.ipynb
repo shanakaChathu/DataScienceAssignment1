{
 "cells": [
  {
   "cell_type": "code",
   "execution_count": 21,
   "metadata": {},
   "outputs": [],
   "source": [
    "import pandas as pd\n",
    "import numpy as np\n",
    "import scipy.stats as st\n",
    "import numpy as np\n",
    "from scipy import stats\n",
    "from scipy.stats import ttest_ind\n",
    "import matplotlib.pyplot as plt\n",
    "import seaborn as sns\n",
    "from scipy.stats import pearsonr\n",
    "\n",
    "%matplotlib inline"
   ]
  },
  {
   "cell_type": "code",
   "execution_count": 31,
   "metadata": {
    "scrolled": true
   },
   "outputs": [
    {
     "data": {
      "text/plain": [
       "(4856, 9)"
      ]
     },
     "execution_count": 31,
     "metadata": {},
     "output_type": "execute_result"
    }
   ],
   "source": [
    "master=pd.read_csv(\"data.csv\")\n",
    "master.shape"
   ]
  },
  {
   "cell_type": "markdown",
   "metadata": {},
   "source": [
    "# Data Pre Processing"
   ]
  },
  {
   "cell_type": "code",
   "execution_count": 32,
   "metadata": {},
   "outputs": [
    {
     "name": "stderr",
     "output_type": "stream",
     "text": [
      "C:\\ProgramData\\Anaconda3\\lib\\site-packages\\ipykernel_launcher.py:5: SettingWithCopyWarning: \n",
      "A value is trying to be set on a copy of a slice from a DataFrame.\n",
      "Try using .loc[row_indexer,col_indexer] = value instead\n",
      "\n",
      "See the caveats in the documentation: http://pandas.pydata.org/pandas-docs/stable/indexing.html#indexing-view-versus-copy\n",
      "  \"\"\"\n",
      "C:\\ProgramData\\Anaconda3\\lib\\site-packages\\ipykernel_launcher.py:6: SettingWithCopyWarning: \n",
      "A value is trying to be set on a copy of a slice from a DataFrame.\n",
      "Try using .loc[row_indexer,col_indexer] = value instead\n",
      "\n",
      "See the caveats in the documentation: http://pandas.pydata.org/pandas-docs/stable/indexing.html#indexing-view-versus-copy\n",
      "  \n"
     ]
    },
    {
     "data": {
      "text/plain": [
       "(4528, 11)"
      ]
     },
     "execution_count": 32,
     "metadata": {},
     "output_type": "execute_result"
    }
   ],
   "source": [
    "master1=master[master['kids']<98]\n",
    "master1.shape\n",
    "master2=master1[master1['educatn']<98]\n",
    "master2.shape\n",
    "master2['Kids_New']=np.where(master2['kids']<=2,\"k1\",\"k2\")\n",
    "master2['Married_New']=np.where(master2['married']==\"married\",\"m1\",\"m2\")\n",
    "master2.shape"
   ]
  },
  {
   "cell_type": "markdown",
   "metadata": {},
   "source": [
    "# Test1: T test to check whether people with age over 40 years earn more than the people with age less than 40 years"
   ]
  },
  {
   "cell_type": "code",
   "execution_count": 33,
   "metadata": {},
   "outputs": [
    {
     "name": "stderr",
     "output_type": "stream",
     "text": [
      "C:\\ProgramData\\Anaconda3\\lib\\site-packages\\ipykernel_launcher.py:3: SettingWithCopyWarning: \n",
      "A value is trying to be set on a copy of a slice from a DataFrame.\n",
      "Try using .loc[row_indexer,col_indexer] = value instead\n",
      "\n",
      "See the caveats in the documentation: http://pandas.pydata.org/pandas-docs/stable/indexing.html#indexing-view-versus-copy\n",
      "  This is separate from the ipykernel package so we can avoid doing imports until\n"
     ]
    }
   ],
   "source": [
    "master3=master[master['earnings']>0]\n",
    "master3.shape\n",
    "master3['Ag_Cat']=np.where(master3['age']<40,\"less than 40\",\"over 40\")"
   ]
  },
  {
   "cell_type": "code",
   "execution_count": 34,
   "metadata": {},
   "outputs": [
    {
     "data": {
      "text/plain": [
       "2.5060497396711643e-06"
      ]
     },
     "execution_count": 34,
     "metadata": {},
     "output_type": "execute_result"
    }
   ],
   "source": [
    "m1=master3[master3['Ag_Cat']=='less than 40'].earnings\n",
    "m2=master3[master3['Ag_Cat']=='over 40'].earnings\n",
    "\n",
    "stat, p = ttest_ind(m1,m2)\n",
    "p"
   ]
  },
  {
   "cell_type": "code",
   "execution_count": 35,
   "metadata": {},
   "outputs": [
    {
     "data": {
      "text/plain": [
       "17901.47563261481"
      ]
     },
     "execution_count": 35,
     "metadata": {},
     "output_type": "execute_result"
    }
   ],
   "source": [
    "np.mean(m1)"
   ]
  },
  {
   "cell_type": "code",
   "execution_count": 36,
   "metadata": {},
   "outputs": [
    {
     "data": {
      "text/plain": [
       "(17232.006932381861, 18570.944332847757)"
      ]
     },
     "execution_count": 36,
     "metadata": {},
     "output_type": "execute_result"
    }
   ],
   "source": [
    "st.t.interval(0.95, len(m1)-1, loc=np.mean(m1), scale=st.sem(m1))"
   ]
  },
  {
   "cell_type": "code",
   "execution_count": 37,
   "metadata": {},
   "outputs": [
    {
     "data": {
      "text/plain": [
       "20401.56324110672"
      ]
     },
     "execution_count": 37,
     "metadata": {},
     "output_type": "execute_result"
    }
   ],
   "source": [
    "np.mean(m2)"
   ]
  },
  {
   "cell_type": "code",
   "execution_count": 38,
   "metadata": {},
   "outputs": [
    {
     "data": {
      "text/plain": [
       "(19604.987493851746, 21198.138988361694)"
      ]
     },
     "execution_count": 38,
     "metadata": {},
     "output_type": "execute_result"
    }
   ],
   "source": [
    "st.t.interval(0.95, len(m2)-1, loc=np.mean(m2), scale=st.sem(m2))"
   ]
  },
  {
   "cell_type": "code",
   "execution_count": 47,
   "metadata": {},
   "outputs": [
    {
     "data": {
      "image/png": "[encoded data removed]",
      "text/plain": [
       "<matplotlib.figure.Figure at 0x2662bdcda58>"
      ]
     },
     "metadata": {},
     "output_type": "display_data"
    }
   ],
   "source": [
    "sns.boxplot( x=master3['earnings'], y=master3[\"Ag_Cat\"] )\n",
    "plt.show()"
   ]
  },
  {
   "cell_type": "markdown",
   "metadata": {},
   "source": [
    "H0: Average earnings of a person with age less than 40 is equal to Average earning of a person with age greater than or equal to 40 years\n",
    "\n",
    "H1:Average earnings of a person with age less than 40 is not equal to Average earning of a person with age greater than or equal to 40 years\n",
    "\n",
    "Since the p value of the T test is less than 0.05 we can reject H0 with a 95% level of confidence\n",
    "\n",
    "According to the sample Average earnings of a person with age less than 40 is equal to 17901 According to the sample Average earnings of a person with age greater than or equal to 40 is equal to 20401. Which shows that people with age over 40 years earns more than people with age less than 40\n",
    "\n",
    "95% confidence interval for Average earnings(per year) of a person with age age greater than or equal to 40 years (17232.00693238186, 18570.944332847757)\n",
    "\n",
    "95% confidence interval for Average earnings(per year) of a person with Low Educational Level (19604.987493851746, 21198.138988361694)\n",
    "\n"
   ]
  },
  {
   "cell_type": "markdown",
   "metadata": {},
   "source": [
    "# Test2:  T test to check whether people with age over 40 years works more than the people with age less than 40 years"
   ]
  },
  {
   "cell_type": "code",
   "execution_count": 77,
   "metadata": {
    "collapsed": true
   },
   "outputs": [
    {
     "name": "stderr",
     "output_type": "stream",
     "text": [
      "C:\\Users\\Heshan Perera\\Anaconda3\\lib\\site-packages\\ipykernel_launcher.py:3: SettingWithCopyWarning: \n",
      "A value is trying to be set on a copy of a slice from a DataFrame.\n",
      "Try using .loc[row_indexer,col_indexer] = value instead\n",
      "\n",
      "See the caveats in the documentation: http://pandas.pydata.org/pandas-docs/stable/indexing.html#indexing-view-versus-copy\n",
      "  This is separate from the ipykernel package so we can avoid doing imports until\n"
     ]
    }
   ],
   "source": [
    "master3=master[master['hours']>0]\n",
    "master3.shape\n",
    "master3['Ag_Cat']=np.where(master3['age']<40,\"less than 40\",\"over 40\")\n"
   ]
  },
  {
   "cell_type": "code",
   "execution_count": 78,
   "metadata": {},
   "outputs": [
    {
     "data": {
      "text/plain": [
       "2.8967779055610274e-05"
      ]
     },
     "execution_count": 78,
     "metadata": {},
     "output_type": "execute_result"
    }
   ],
   "source": [
    "m1=master3[master3['Ag_Cat']=='less than 40'].hours\n",
    "m2=master3[master3['Ag_Cat']=='over 40'].hours\n",
    "\n",
    "stat, p = ttest_ind(m1,m2)\n",
    "p"
   ]
  },
  {
   "cell_type": "code",
   "execution_count": 79,
   "metadata": {},
   "outputs": [
    {
     "data": {
      "text/plain": [
       "1593.8561419897244"
      ]
     },
     "execution_count": 79,
     "metadata": {},
     "output_type": "execute_result"
    }
   ],
   "source": [
    "np.mean(m1)"
   ]
  },
  {
   "cell_type": "code",
   "execution_count": 80,
   "metadata": {},
   "outputs": [
    {
     "data": {
      "text/plain": [
       "(1562.4515770097912, 1625.2607069696576)"
      ]
     },
     "execution_count": 80,
     "metadata": {},
     "output_type": "execute_result"
    }
   ],
   "source": [
    "st.t.interval(0.95, len(m1)-1, loc=np.mean(m1), scale=st.sem(m1))"
   ]
  },
  {
   "cell_type": "code",
   "execution_count": 81,
   "metadata": {
    "scrolled": true
   },
   "outputs": [
    {
     "data": {
      "text/plain": [
       "1695.9606557377049"
      ]
     },
     "execution_count": 81,
     "metadata": {},
     "output_type": "execute_result"
    }
   ],
   "source": [
    "np.mean(m2)"
   ]
  },
  {
   "cell_type": "code",
   "execution_count": 82,
   "metadata": {},
   "outputs": [
    {
     "data": {
      "text/plain": [
       "(1660.3527598459957, 1731.568551629414)"
      ]
     },
     "execution_count": 82,
     "metadata": {},
     "output_type": "execute_result"
    }
   ],
   "source": [
    "st.t.interval(0.95, len(m2)-1, loc=np.mean(m2), scale=st.sem(m2))"
   ]
  },
  {
   "cell_type": "code",
   "execution_count": null,
   "metadata": {},
   "outputs": [],
   "source": [
    "sns.boxplot( x=master3['earnings'], y=master3[\"kidsNew\"] )\n",
    "plt.show()"
   ]
  },
  {
   "cell_type": "code",
   "execution_count": 48,
   "metadata": {},
   "outputs": [
    {
     "data": {
      "image/png": "[encoded data removed]",
      "text/plain": [
       "<matplotlib.figure.Figure at 0x2662be42518>"
      ]
     },
     "metadata": {},
     "output_type": "display_data"
    }
   ],
   "source": [
    "sns.boxplot( x=master3['hours'], y=master3[\"Ag_Cat\"] )\n",
    "plt.show()"
   ]
  },
  {
   "cell_type": "markdown",
   "metadata": {},
   "source": [
    "H0: Average working hours(per year) of a person with age less than 40 is equal to Average working hours of a person with age greater than or equal to 40 years \n",
    "\n",
    "H1:Average working hours(per year) of a person with age less than 40 is not equal to Average working hours(per year) of a person with age greater than or equal to 40 years\n",
    "\n",
    "Since the p value of the T test is less than 0.05 we can reject H0 with a 95% level of confidence\n",
    "\n",
    "According to the sample Average working hours(per year) of a person with age less than 40 is equal to 1593 According to the sample Average working hours(per year) of a person with age greater than or equal to 40 is equal to 1695. Which shows that people with age over 40 years works more hours per year than people with age less than 40\n",
    "\n",
    "95% confidence interval for Average working hours(per year) of a person with age less than 40 (1562.4515770097912, 1625.2607069696576)\n",
    "\n",
    "95% confidence interval for Average working hours(per year) of a person person with age greater than or equal to 40 years (1660.3527598459957, 1731.568551629414)"
   ]
  },
  {
   "cell_type": "markdown",
   "metadata": {},
   "source": [
    "# Test3: T test to check whether the earnings of people with high educational levels  are different  than  earnings of the people with low educational levels"
   ]
  },
  {
   "cell_type": "code",
   "execution_count": 50,
   "metadata": {},
   "outputs": [
    {
     "name": "stderr",
     "output_type": "stream",
     "text": [
      "C:\\ProgramData\\Anaconda3\\lib\\site-packages\\ipykernel_launcher.py:4: SettingWithCopyWarning: \n",
      "A value is trying to be set on a copy of a slice from a DataFrame.\n",
      "Try using .loc[row_indexer,col_indexer] = value instead\n",
      "\n",
      "See the caveats in the documentation: http://pandas.pydata.org/pandas-docs/stable/indexing.html#indexing-view-versus-copy\n",
      "  after removing the cwd from sys.path.\n"
     ]
    }
   ],
   "source": [
    "master3=master[master['educatn']<98]\n",
    "master4=master3[master3['earnings']>0]\n",
    "master4.shape\n",
    "master4['Ed_Cat']=np.where(master4['educatn']<14,\"low\",\"High\")"
   ]
  },
  {
   "cell_type": "code",
   "execution_count": 51,
   "metadata": {},
   "outputs": [
    {
     "data": {
      "text/plain": [
       "7.7133311043297673e-95"
      ]
     },
     "execution_count": 51,
     "metadata": {},
     "output_type": "execute_result"
    }
   ],
   "source": [
    "m1=master4[master4['Ed_Cat']=='low'].earnings\n",
    "m2=master4[master4['Ed_Cat']=='High'].earnings\n",
    "\n",
    "stat, p = ttest_ind(m1,m2)\n",
    "p"
   ]
  },
  {
   "cell_type": "code",
   "execution_count": 52,
   "metadata": {},
   "outputs": [
    {
     "data": {
      "text/plain": [
       "14901.589937666964"
      ]
     },
     "execution_count": 52,
     "metadata": {},
     "output_type": "execute_result"
    }
   ],
   "source": [
    "np.mean(m1)"
   ]
  },
  {
   "cell_type": "code",
   "execution_count": 73,
   "metadata": {},
   "outputs": [
    {
     "data": {
      "text/plain": [
       "(14433.644954567146, 15369.534920766782)"
      ]
     },
     "execution_count": 73,
     "metadata": {},
     "output_type": "execute_result"
    }
   ],
   "source": [
    "st.t.interval(0.95, len(m1)-1, loc=np.mean(m1), scale=st.sem(m1))"
   ]
  },
  {
   "cell_type": "code",
   "execution_count": 74,
   "metadata": {
    "scrolled": true
   },
   "outputs": [
    {
     "data": {
      "text/plain": [
       "26087.509508716324"
      ]
     },
     "execution_count": 74,
     "metadata": {},
     "output_type": "execute_result"
    }
   ],
   "source": [
    "np.mean(m2)"
   ]
  },
  {
   "cell_type": "code",
   "execution_count": 75,
   "metadata": {},
   "outputs": [
    {
     "data": {
      "text/plain": [
       "(24994.934095784818, 27180.08492164783)"
      ]
     },
     "execution_count": 75,
     "metadata": {},
     "output_type": "execute_result"
    }
   ],
   "source": [
    "st.t.interval(0.95, len(m2)-1, loc=np.mean(m2), scale=st.sem(m2))"
   ]
  },
  {
   "cell_type": "code",
   "execution_count": 53,
   "metadata": {},
   "outputs": [
    {
     "data": {
      "image/png": "[encoded data removed]",
      "text/plain": [
       "<matplotlib.figure.Figure at 0x2662bf612e8>"
      ]
     },
     "metadata": {},
     "output_type": "display_data"
    }
   ],
   "source": [
    "sns.boxplot( x=master4['earnings'], y=master4[\"Ed_Cat\"] )\n",
    "plt.show()"
   ]
  },
  {
   "cell_type": "markdown",
   "metadata": {},
   "source": [
    "H0: Average earnings of a person with High Educational Level is equal to Average earning of a person with Low Educational Level\n",
    "\n",
    "H1:Average earnings of a person with High Educational Level is not equal to Average earning of a person with Low Educational Level\n",
    "\n",
    "Since the p value of the T test is less than 0.05 we can reject H0 with a 95% level of confidence\n",
    "\n",
    "According to the sample Average earnings of a person High Educational Level(14 to 17) is equal to 26087 According to the sample Average earnings of a person with Low Educational Level(less than 14) is equal to 14901. Which shows that people with High Educational levels earns more than the people with low educational levels\n",
    "\n",
    "95% confidence interval for Average earnings(per year) of a person with High Educational Level ((24994.934095784818, 27180.08492164783)\n",
    "\n",
    "95% confidence interval for Average earnings(per year) of a person with Low Educational Level (14433.644954567146, 15369.534920766782)\n",
    "\n"
   ]
  },
  {
   "cell_type": "markdown",
   "metadata": {},
   "source": [
    "# Test4: T test to check whether working hours of people with high educational levels  are different than the working hours of people with low educational levels"
   ]
  },
  {
   "cell_type": "code",
   "execution_count": 54,
   "metadata": {},
   "outputs": [
    {
     "data": {
      "text/plain": [
       "0.094170555592575964"
      ]
     },
     "execution_count": 54,
     "metadata": {},
     "output_type": "execute_result"
    }
   ],
   "source": [
    "m1=master4[master4['Ed_Cat']=='low'].hours\n",
    "m2=master4[master4['Ed_Cat']=='High'].hours\n",
    "\n",
    "stat, p = ttest_ind(m1,m2)\n",
    "p"
   ]
  },
  {
   "cell_type": "code",
   "execution_count": 55,
   "metadata": {
    "scrolled": false
   },
   "outputs": [
    {
     "data": {
      "text/plain": [
       "DescribeResult(nobs=2246, minmax=(6, 5160), mean=1620.3490650044523, variance=539175.06384545052, skewness=-0.24914196094497612, kurtosis=0.9774515488003894)"
      ]
     },
     "execution_count": 55,
     "metadata": {},
     "output_type": "execute_result"
    }
   ],
   "source": [
    "stats.describe(m1)"
   ]
  },
  {
   "cell_type": "code",
   "execution_count": 56,
   "metadata": {},
   "outputs": [
    {
     "data": {
      "text/plain": [
       "(1589.9652488287225, 1650.7328811801822)"
      ]
     },
     "execution_count": 56,
     "metadata": {},
     "output_type": "execute_result"
    }
   ],
   "source": [
    "st.t.interval(0.95, len(m1)-1, loc=np.mean(m1), scale=st.sem(m1))"
   ]
  },
  {
   "cell_type": "code",
   "execution_count": 57,
   "metadata": {},
   "outputs": [
    {
     "data": {
      "text/plain": [
       "DescribeResult(nobs=1262, minmax=(7, 4821), mean=1663.1584786053884, variance=508825.64496770728, skewness=-0.18024880550149047, kurtosis=0.7264489197730679)"
      ]
     },
     "execution_count": 57,
     "metadata": {},
     "output_type": "execute_result"
    }
   ],
   "source": [
    "stats.describe(m2)"
   ]
  },
  {
   "cell_type": "code",
   "execution_count": 58,
   "metadata": {},
   "outputs": [
    {
     "data": {
      "text/plain": [
       "(1623.7653967771334, 1702.5515604336433)"
      ]
     },
     "execution_count": 58,
     "metadata": {},
     "output_type": "execute_result"
    }
   ],
   "source": [
    "st.t.interval(0.95, len(m2)-1, loc=np.mean(m2), scale=st.sem(m2))"
   ]
  },
  {
   "cell_type": "code",
   "execution_count": 59,
   "metadata": {},
   "outputs": [
    {
     "data": {
      "image/png": "[encoded data removed]",
      "text/plain": [
       "<matplotlib.figure.Figure at 0x2662bf7d048>"
      ]
     },
     "metadata": {},
     "output_type": "display_data"
    }
   ],
   "source": [
    "sns.boxplot( x=master4['earnings'], y=master4[\"Ed_Cat\"] )\n",
    "plt.show()"
   ]
  },
  {
   "cell_type": "markdown",
   "metadata": {},
   "source": [
    "H0: Average working hours(per year) of a person with High Educational Level is equal to Average working hours of a person with Low Educational Level\n",
    "\n",
    "H1:Average working hours(per year) of a person with High Educational Level is not equal to Average working hours(per year) of a person with Low Educational Level\n",
    "\n",
    "Since the p value of the T test is not less than 0.05 we do not reject H0 with a 95% level of confidence\n",
    "\n",
    "According to the sample Average working hours(per year) of a person with High Educational is equal to 1663 According to the sample Average working hours(per year) of a person with Low Educational is equal to 1620. This shows that there is not significant difference between working hours of a person with high educational level and a person with a low educational level.\n",
    "\n",
    "95% confidence interval for Average working hours(per year) of a person with High Educational Level\n",
    "(1623.7653967771334, 1702.5515604336433)\n",
    "\n",
    "95% confidence interval for Average working hours(per year) of a person with Low Educational Level\n",
    "(1589.9652488287225, 1650.7328811801822)\n",
    "\n"
   ]
  },
  {
   "cell_type": "markdown",
   "metadata": {},
   "source": [
    "# Test5: Analysis the Earnings according to the number of kids "
   ]
  },
  {
   "cell_type": "code",
   "execution_count": 22,
   "metadata": {},
   "outputs": [
    {
     "data": {
      "text/plain": [
       "(4528, 9)"
      ]
     },
     "execution_count": 22,
     "metadata": {},
     "output_type": "execute_result"
    }
   ],
   "source": [
    "data=pd.read_csv(\"data.csv\")\n",
    "data.shape\n",
    "#Data Cleaning \n",
    "temp=data[data['kids']<98]\n",
    "data=temp[temp['educatn']<98]\n",
    "data.shape"
   ]
  },
  {
   "cell_type": "markdown",
   "metadata": {},
   "source": [
    "Number of kids are segmented as the \n",
    "k1: Number of Kids are less than or equal 2 \n",
    "k2: Number of kides are greater than 2 "
   ]
  },
  {
   "cell_type": "code",
   "execution_count": 9,
   "metadata": {},
   "outputs": [
    {
     "name": "stderr",
     "output_type": "stream",
     "text": [
      "C:\\ProgramData\\Anaconda3\\lib\\site-packages\\ipykernel_launcher.py:1: SettingWithCopyWarning: \n",
      "A value is trying to be set on a copy of a slice from a DataFrame.\n",
      "Try using .loc[row_indexer,col_indexer] = value instead\n",
      "\n",
      "See the caveats in the documentation: http://pandas.pydata.org/pandas-docs/stable/indexing.html#indexing-view-versus-copy\n",
      "  \"\"\"Entry point for launching an IPython kernel.\n"
     ]
    }
   ],
   "source": [
    "data['kidsNew']=np.where(data['kids']<=2,'k1','k2')\n",
    "x=data[(data['kidsNew']=='k1') & (data['earnings']>0) ].earnings\n",
    "y=data[(data['kidsNew']=='k2') & (data['earnings']>0) ].earnings\n",
    "\n",
    "stat, p = ttest_ind(x,y)"
   ]
  },
  {
   "cell_type": "code",
   "execution_count": 10,
   "metadata": {},
   "outputs": [
    {
     "name": "stdout",
     "output_type": "stream",
     "text": [
      "Average of earnings for group k1 14959.685891748004\n",
      "(14238.234814396603, 15681.136969099405)\n"
     ]
    }
   ],
   "source": [
    "#Average  earnings and confidence interval for the families greater than 2 kids \n",
    "print(\"Average of earnings for group k1\",np.mean(y))\n",
    "print(st.t.interval(0.95, len(y)-1, loc=np.mean(y), scale=st.sem(y)))"
   ]
  },
  {
   "cell_type": "code",
   "execution_count": 11,
   "metadata": {},
   "outputs": [
    {
     "name": "stdout",
     "output_type": "stream",
     "text": [
      "Average of earnings for group k1 14959.685891748004\n",
      "(14238.234814396603, 15681.136969099405)\n"
     ]
    }
   ],
   "source": [
    "#Average  earnings and confidence interval for the families greater than 2 kids \n",
    "print(\"Average of earnings for group k1\",np.mean(y))\n",
    "print(st.t.interval(0.95, len(y)-1, loc=np.mean(y), scale=st.sem(y)))"
   ]
  },
  {
   "cell_type": "markdown",
   "metadata": {},
   "source": [
    "Hypothesis Test \n",
    "\n",
    "H0: Average earnings for group k1\n",
    "H1: Average earnings for group k2  \n",
    "\n",
    "Decision : According to the 2 -sample t test it can be seen that p_value is less then 0.05. Therefore we reject h0 at 0.05 significance level \n",
    "\n",
    "Conclusion: Average earnings according to the 2 groups have significant difference \n",
    "\n",
    "95% confidence interval for Average earnings(per year) for group k1 (20208.801278639647, 21591.235599576477)\n",
    "95% confidence interval for Average earnings(per year) other group k2 (14238.234814396603, 15681.136969099405)\n",
    "\n"
   ]
  },
  {
   "cell_type": "code",
   "execution_count": 12,
   "metadata": {},
   "outputs": [
    {
     "data": {
      "image/png": "[encoded data removed]",
      "text/plain": [
       "<matplotlib.figure.Figure at 0x266278bd240>"
      ]
     },
     "metadata": {},
     "output_type": "display_data"
    }
   ],
   "source": [
    "#Visualization of earnings  according to the 2 groups  \n",
    "sns.boxplot( x=data['earnings'], y=data[\"kidsNew\"] )\n",
    "plt.show()"
   ]
  },
  {
   "cell_type": "code",
   "execution_count": 13,
   "metadata": {},
   "outputs": [
    {
     "data": {
      "text/plain": [
       "<matplotlib.axes._subplots.AxesSubplot at 0x26629612fd0>"
      ]
     },
     "execution_count": 13,
     "metadata": {},
     "output_type": "execute_result"
    },
    {
     "data": {
      "image/png": "[encoded data removed]",
      "text/plain": [
       "<matplotlib.figure.Figure at 0x2662b66b668>"
      ]
     },
     "metadata": {},
     "output_type": "display_data"
    }
   ],
   "source": [
    "# Method 1: on the same Axis\n",
    "sns.distplot( x , color=\"red\", label=\"k1-earnings\")\n",
    "sns.distplot( y , color=\"blue\", label=\"k2-earnings\")"
   ]
  },
  {
   "cell_type": "markdown",
   "metadata": {},
   "source": [
    "# Test6: Analysis of earnings according to the marriage"
   ]
  },
  {
   "cell_type": "markdown",
   "metadata": {},
   "source": [
    "Number of kids are segmented as the \n",
    "m1: married People \n",
    "m2: All other people (not married)"
   ]
  },
  {
   "cell_type": "code",
   "execution_count": 14,
   "metadata": {},
   "outputs": [
    {
     "name": "stderr",
     "output_type": "stream",
     "text": [
      "C:\\ProgramData\\Anaconda3\\lib\\site-packages\\ipykernel_launcher.py:1: SettingWithCopyWarning: \n",
      "A value is trying to be set on a copy of a slice from a DataFrame.\n",
      "Try using .loc[row_indexer,col_indexer] = value instead\n",
      "\n",
      "See the caveats in the documentation: http://pandas.pydata.org/pandas-docs/stable/indexing.html#indexing-view-versus-copy\n",
      "  \"\"\"Entry point for launching an IPython kernel.\n"
     ]
    }
   ],
   "source": [
    "data['marriedNew']=np.where(data['married']=='married','m1','m2')"
   ]
  },
  {
   "cell_type": "code",
   "execution_count": 15,
   "metadata": {},
   "outputs": [
    {
     "name": "stdout",
     "output_type": "stream",
     "text": [
      "0.0275155381311\n"
     ]
    }
   ],
   "source": [
    "x1=data[(data['marriedNew']=='m1') & (data['earnings']>0) ].earnings\n",
    "y1=data[(data['marriedNew']=='m2') & (data['earnings']>0) ].earnings\n",
    "\n",
    "stat, p = ttest_ind(x1,y1)\n",
    "print(p)"
   ]
  },
  {
   "cell_type": "code",
   "execution_count": 16,
   "metadata": {},
   "outputs": [
    {
     "name": "stdout",
     "output_type": "stream",
     "text": [
      "Average of earnings for group m1 19389.036617262424\n",
      "(18720.200515095428, 20057.872719429419)\n"
     ]
    }
   ],
   "source": [
    "#Average  earnings and confidence interval for the families less than or equal 2 kids \n",
    "print(\"Average of earnings for group m1\",np.mean(x1))\n",
    "print(st.t.interval(0.95, len(x1)-1, loc=np.mean(x1), scale=st.sem(x1)))"
   ]
  },
  {
   "cell_type": "code",
   "execution_count": 17,
   "metadata": {},
   "outputs": [
    {
     "name": "stdout",
     "output_type": "stream",
     "text": [
      "Average of earnings for group m1 18128.72017167382\n",
      "(17268.555759225124, 18988.884584122516)\n"
     ]
    }
   ],
   "source": [
    "#Average  earnings and confidence interval for the families less than or equal 2 kids \n",
    "print(\"Average of earnings for group m1\",np.mean(y1))\n",
    "print(st.t.interval(0.95, len(y1)-1, loc=np.mean(y1), scale=st.sem(y1)))"
   ]
  },
  {
   "cell_type": "markdown",
   "metadata": {},
   "source": [
    "#Hypothesis Test \n",
    "\n",
    "H0: Average earnings for group m1\n",
    "H1: Average earnings for group m2  \n",
    "\n",
    "Decision : According to the 2 -sample t test it can be seen that p_value is less then 0.05. Therefore we reject h0 at 0.05 significance level \n",
    "\n",
    "Conclusion: Average earnings according to the 2 groups have significant difference \n",
    "\n",
    "95% confidence interval for Average earnings(per year) for group m1 (18720.200515095428, 20057.872719429419)\n",
    "95% confidence interval for Average earnings(per year) other group m2 (17268.555759225124, 18988.884584122516)\n",
    "\n"
   ]
  },
  {
   "cell_type": "code",
   "execution_count": 18,
   "metadata": {},
   "outputs": [
    {
     "data": {
      "image/png": "[encoded data removed]",
      "text/plain": [
       "<matplotlib.figure.Figure at 0x2662b681e80>"
      ]
     },
     "metadata": {},
     "output_type": "display_data"
    }
   ],
   "source": [
    "#Visualization of earnings  according to the 2 groups  \n",
    "sns.boxplot( x=data['earnings'], y=data[\"marriedNew\"] )\n",
    "plt.show()"
   ]
  },
  {
   "cell_type": "code",
   "execution_count": 19,
   "metadata": {},
   "outputs": [
    {
     "data": {
      "text/plain": [
       "<matplotlib.axes._subplots.AxesSubplot at 0x2662b6adc88>"
      ]
     },
     "execution_count": 19,
     "metadata": {},
     "output_type": "execute_result"
    },
    {
     "data": {
      "image/png": "[encoded data removed]",
      "text/plain": [
       "<matplotlib.figure.Figure at 0x2662b835f28>"
      ]
     },
     "metadata": {},
     "output_type": "display_data"
    }
   ],
   "source": [
    "# Method 1: on the same Axis\n",
    "sns.distplot( x1 , color=\"red\", label=\"m1-earnings\")\n",
    "sns.distplot( y1 , color=\"blue\", label=\"m2-earnings\")"
   ]
  },
  {
   "cell_type": "markdown",
   "metadata": {},
   "source": [
    "# Test7: Checking the correlation of the earnings and the number of hours "
   ]
  },
  {
   "cell_type": "code",
   "execution_count": null,
   "metadata": {},
   "outputs": [],
   "source": [
    "df = pd.read_csv('..\\Dataset\\dataEdited.csv', index_col = 'Seq No')\n",
    "#df['H-L'] = df.High - df.Low\n",
    "\n",
    "print(df.describe())"
   ]
  },
  {
   "cell_type": "code",
   "execution_count": 70,
   "metadata": {},
   "outputs": [
    {
     "name": "stdout",
     "output_type": "stream",
     "text": [
      "0.627261497688\n",
      "0.0\n"
     ]
    }
   ],
   "source": [
    "#data['hours'].corr(data['earnings'])\n",
    "corr, p_value = pearsonr(data['earnings'],data['hours'])\n",
    "print(corr)\n",
    "print(p_value)"
   ]
  },
  {
   "cell_type": "code",
   "execution_count": 25,
   "metadata": {},
   "outputs": [
    {
     "data": {
      "image/png": "[encoded data removed]",
      "text/plain": [
       "<matplotlib.figure.Figure at 0x2662b8d9be0>"
      ]
     },
     "metadata": {},
     "output_type": "display_data"
    }
   ],
   "source": [
    "plt.scatter(data.hours, data.earnings)\n",
    "plt.title('Scatter plot for Earnings and hours')\n",
    "plt.xlabel('Hours')\n",
    "plt.ylabel('Earnings')\n",
    "plt.show()"
   ]
  },
  {
   "cell_type": "markdown",
   "metadata": {},
   "source": [
    "\n",
    "h0:There is no correlation between earnings and the number of hours worked \n",
    "h1:There is correlation between earnings and the number of hours worked \n",
    "\n",
    "Decision : We reject h0 at 0.05 significance level sinice p_value<0.05. \n",
    "\n",
    "Conclusion: There is correlation between earnings and the number of hours worked \n",
    "\n",
    "Correlation between earnings and the nuber of hours worked is about 0.6. That is there is a high positive linear relationship between the two variables. \n",
    "\n"
   ]
  },
  {
   "cell_type": "markdown",
   "metadata": {},
   "source": [
    "# Test8: Checking the correlation of the earnings and the age "
   ]
  },
  {
   "cell_type": "code",
   "execution_count": 65,
   "metadata": {},
   "outputs": [
    {
     "name": "stdout",
     "output_type": "stream",
     "text": [
      "0.0924234967712\n",
      "4.63946513113e-10\n"
     ]
    }
   ],
   "source": [
    "data['age'].corr(data['earnings'])\n",
    "\n",
    "corr, p_value = pearsonr(data['earnings'],data['age'])\n",
    "print(corr)\n",
    "print(p_value)"
   ]
  },
  {
   "cell_type": "code",
   "execution_count": 27,
   "metadata": {},
   "outputs": [
    {
     "data": {
      "image/png": "[encoded data removed]",
      "text/plain": [
       "<matplotlib.figure.Figure at 0x2662ba620b8>"
      ]
     },
     "metadata": {},
     "output_type": "display_data"
    }
   ],
   "source": [
    "plt.scatter(data.age, data.earnings)\n",
    "plt.title('Scatter plot for Earnings and age')\n",
    "plt.xlabel('Age')\n",
    "plt.ylabel('Earnings')\n",
    "plt.show()"
   ]
  },
  {
   "cell_type": "markdown",
   "metadata": {},
   "source": [
    "\n",
    "h0:There is no correlation between earnings and the age\n",
    "h1:There is correlation between earnings and the age \n",
    "\n",
    "Decision : We reject h0 at 0.05 significance level sinice p_value<0.05. \n",
    "\n",
    "Conclusion: There is correlation between earnings and the age\n",
    "\n",
    "But Correlation between earnings and the age is  about 0.1 That is there is very low linear relationship between the two variables. "
   ]
  },
  {
   "cell_type": "markdown",
   "metadata": {},
   "source": [
    "# Test9: Checking the association of the earnings and the Education"
   ]
  },
  {
   "cell_type": "code",
   "execution_count": 67,
   "metadata": {},
   "outputs": [
    {
     "name": "stdout",
     "output_type": "stream",
     "text": [
      "0.379606002392\n",
      "3.68674597911e-155\n"
     ]
    }
   ],
   "source": [
    "data['educatn'].corr(data['earnings'])\n",
    "\n",
    "corr, p_value = pearsonr(data['earnings'],data['educatn'])\n",
    "print(corr)\n",
    "print(p_value)"
   ]
  },
  {
   "cell_type": "code",
   "execution_count": 30,
   "metadata": {},
   "outputs": [
    {
     "data": {
      "image/png": "[encoded data removed]",
      "text/plain": [
       "<matplotlib.figure.Figure at 0x2662ba72be0>"
      ]
     },
     "metadata": {},
     "output_type": "display_data"
    }
   ],
   "source": [
    "plt.scatter(data.educatn, data.earnings)\n",
    "plt.title('Scatter plot for Earnings and education')\n",
    "plt.xlabel('Education Level')\n",
    "plt.ylabel('Earnings')\n",
    "plt.show()"
   ]
  },
  {
   "cell_type": "markdown",
   "metadata": {},
   "source": [
    "\n",
    "h0:There is no correlation between earnings and the education\n",
    "h1:There is correlation between earnings and the education\n",
    "\n",
    "Decision : We reject h0 at 0.05 significance level since p_value<0.05. \n",
    "\n",
    "Conclusion: There is correlation between earnings and the education\n",
    "\n",
    "But Correlation between earnings and the age is  about 0.4 That is there moderate linear relationship between the two variables. "
   ]
  }
 ],
 "metadata": {
  "kernelspec": {
   "display_name": "Python 3",
   "language": "python",
   "name": "python3"
  },
  "language_info": {
   "codemirror_mode": {
    "name": "ipython",
    "version": 3
   },
   "file_extension": ".py",
   "mimetype": "text/x-python",
   "name": "python",
   "nbconvert_exporter": "python",
   "pygments_lexer": "ipython3",
   "version": "3.6.4"
  }
 },
 "nbformat": 4,
 "nbformat_minor": 2
}
