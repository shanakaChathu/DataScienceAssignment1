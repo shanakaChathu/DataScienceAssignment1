{
 "cells": [
  {
   "cell_type": "markdown",
   "metadata": {},
   "source": [
    "Correlation Results: \n",
    "\n",
    "Correlation between earnings and education is 0.37. This is less than 0.5. Therefore we can say that there is no correlation between education and earning. But compared to age, education have better correlation. \n",
    "\n",
    "Correlataion between earning and hours is 0.62. This is greater than 0.5. Therefore we can say that there is a good correlation between earning and hours.\n",
    "\n",
    "Correlation between age and earning is 0.09. Since correlation is less than 0.5 and value is very low we can say that there is no correlation between age and earnings"
   ]
  }
 ],
 "metadata": {
  "kernelspec": {
   "display_name": "Python 3",
   "language": "python",
   "name": "python3"
  },
  "language_info": {
   "codemirror_mode": {
    "name": "ipython",
    "version": 3
   },
   "file_extension": ".py",
   "mimetype": "text/x-python",
   "name": "python",
   "nbconvert_exporter": "python",
   "pygments_lexer": "ipython3",
   "version": "3.7.1"
  }
 },
 "nbformat": 4,
 "nbformat_minor": 2
}
