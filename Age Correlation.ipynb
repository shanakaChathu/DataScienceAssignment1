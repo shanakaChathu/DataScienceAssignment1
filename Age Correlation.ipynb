{
 "cells": [
  {
   "cell_type": "markdown",
   "metadata": {},
   "source": [
    "Test : Correlation between Age and Earnings"
   ]
  },
  {
   "cell_type": "markdown",
   "metadata": {},
   "source": [
    "Hypothesis  ρ - Corrilation cofficient\n",
    "Null hypothesis H0: ρ = 0\n",
    "Alternative hypothesis HA: ρ != 0"
   ]
  },
  {
   "cell_type": "code",
   "execution_count": 2,
   "metadata": {},
   "outputs": [
    {
     "name": "stdout",
     "output_type": "stream",
     "text": [
      "            intnum      persnum          age      educatn       earnings  \\\n",
      "count  4528.000000  4528.000000  4528.000000  4528.000000    4528.000000   \n",
      "mean   4545.643551    57.367270    38.405477    12.458260   14487.281140   \n",
      "std    2758.687860    78.916083     5.531674     2.912543   16058.984082   \n",
      "min       4.000000     1.000000    30.000000     0.000000       0.000000   \n",
      "25%    1853.000000     2.000000    34.000000    12.000000     400.000000   \n",
      "50%    5437.500000     4.000000    38.000000    12.000000   11242.500000   \n",
      "75%    6615.250000   170.000000    43.000000    14.000000   22514.500000   \n",
      "max    9306.000000   200.000000    50.000000    17.000000  240000.000000   \n",
      "\n",
      "             hours         kids  \n",
      "count  4528.000000  4528.000000  \n",
      "mean   1252.282906     2.151281  \n",
      "std     936.797427     1.425212  \n",
      "min       0.000000     0.000000  \n",
      "25%     100.000000     1.000000  \n",
      "50%    1534.500000     2.000000  \n",
      "75%    2000.000000     3.000000  \n",
      "max    5025.000000    10.000000  \n"
     ]
    }
   ],
   "source": [
    "import pandas as pd\n",
    "import matplotlib.pyplot as plt\n",
    "from pandas import DataFrame\n",
    "from scipy.stats import pearsonr\n",
    "\n",
    "df = pd.read_csv('Python_Script\\Dataset\\dataEdited.csv', index_col = 'Seq No')\n",
    "#df['H-L'] = df.High - df.Low\n",
    "\n",
    "print(df.describe())"
   ]
  },
  {
   "cell_type": "code",
   "execution_count": 3,
   "metadata": {},
   "outputs": [
    {
     "data": {
      "text/plain": [
       "0.09242349677121323"
      ]
     },
     "execution_count": 3,
     "metadata": {},
     "output_type": "execute_result"
    }
   ],
   "source": [
    "df['age'].corr(df['earnings'])"
   ]
  },
  {
   "cell_type": "code",
   "execution_count": 5,
   "metadata": {},
   "outputs": [
    {
     "data": {
      "image/png": "[encoded data removed]",
      "text/plain": [
       "<Figure size 432x288 with 1 Axes>"
      ]
     },
     "metadata": {
      "needs_background": "light"
     },
     "output_type": "display_data"
    }
   ],
   "source": [
    "plt.scatter(df.educatn, df.earnings)\n",
    "plt.title('Scatter plot for Earnings and education')\n",
    "plt.xlabel('Age')\n",
    "plt.ylabel('Earnings')\n",
    "plt.show()"
   ]
  },
  {
   "cell_type": "markdown",
   "metadata": {},
   "source": [
    "Results : since the 0.08 is too small that 0.7 we can reject the null hypothisis. No relation between Age and Earning\n",
    "According to the scatter plot above Earnings will increase with Age.  "
   ]
  },
  {
   "cell_type": "code",
   "execution_count": null,
   "metadata": {},
   "outputs": [],
   "source": []
  }
 ],
 "metadata": {
  "kernelspec": {
   "display_name": "Python 3",
   "language": "python",
   "name": "python3"
  },
  "language_info": {
   "codemirror_mode": {
    "name": "ipython",
    "version": 3
   },
   "file_extension": ".py",
   "mimetype": "text/x-python",
   "name": "python",
   "nbconvert_exporter": "python",
   "pygments_lexer": "ipython3",
   "version": "3.7.1"
  }
 },
 "nbformat": 4,
 "nbformat_minor": 2
}
