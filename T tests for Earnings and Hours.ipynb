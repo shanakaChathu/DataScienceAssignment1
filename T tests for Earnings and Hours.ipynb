{
 "cells": [
  {
   "cell_type": "code",
   "execution_count": 70,
   "metadata": {},
   "outputs": [],
   "source": [
    "import pandas as pd\n",
    "import numpy as np\n",
    "import scipy.stats as st"
   ]
  },
  {
   "cell_type": "code",
   "execution_count": 2,
   "metadata": {
    "scrolled": true
   },
   "outputs": [
    {
     "data": {
      "text/plain": [
       "(4856, 9)"
      ]
     },
     "execution_count": 2,
     "metadata": {},
     "output_type": "execute_result"
    }
   ],
   "source": [
    "master=pd.read_csv(\"PSID (1).csv\")\n",
    "master.shape"
   ]
  },
  {
   "cell_type": "markdown",
   "metadata": {},
   "source": [
    "# Data Pre Processing"
   ]
  },
  {
   "cell_type": "code",
   "execution_count": 10,
   "metadata": {
    "collapsed": true
   },
   "outputs": [
    {
     "name": "stderr",
     "output_type": "stream",
     "text": [
      "C:\\Users\\Heshan Perera\\Anaconda3\\lib\\site-packages\\ipykernel_launcher.py:5: SettingWithCopyWarning: \n",
      "A value is trying to be set on a copy of a slice from a DataFrame.\n",
      "Try using .loc[row_indexer,col_indexer] = value instead\n",
      "\n",
      "See the caveats in the documentation: http://pandas.pydata.org/pandas-docs/stable/indexing.html#indexing-view-versus-copy\n",
      "  \"\"\"\n",
      "C:\\Users\\Heshan Perera\\Anaconda3\\lib\\site-packages\\ipykernel_launcher.py:6: SettingWithCopyWarning: \n",
      "A value is trying to be set on a copy of a slice from a DataFrame.\n",
      "Try using .loc[row_indexer,col_indexer] = value instead\n",
      "\n",
      "See the caveats in the documentation: http://pandas.pydata.org/pandas-docs/stable/indexing.html#indexing-view-versus-copy\n",
      "  \n"
     ]
    },
    {
     "data": {
      "text/plain": [
       "(4528, 11)"
      ]
     },
     "execution_count": 10,
     "metadata": {},
     "output_type": "execute_result"
    }
   ],
   "source": [
    "master1=master[master['kids']<98]\n",
    "master1.shape\n",
    "master2=master1[master1['educatn']<98]\n",
    "master2.shape\n",
    "master2['Kids_New']=np.where(master2['kids']<=2,\"k1\",\"k2\")\n",
    "master2['Married_New']=np.where(master2['married']==\"married\",\"m1\",\"m2\")\n",
    "master2.shape"
   ]
  },
  {
   "cell_type": "markdown",
   "metadata": {},
   "source": [
    "# T test to see if there is a difference between earnings of married and other people"
   ]
  },
  {
   "cell_type": "code",
   "execution_count": 90,
   "metadata": {},
   "outputs": [
    {
     "data": {
      "text/plain": [
       "0.027515538131075167"
      ]
     },
     "execution_count": 90,
     "metadata": {},
     "output_type": "execute_result"
    }
   ],
   "source": [
    "## Import the packages\n",
    "import numpy as np\n",
    "from scipy import stats\n",
    "from scipy.stats import ttest_ind\n",
    "master3=master2[master2['earnings']>0]\n",
    "m1=master3[master3['Married_New']=='m1'].earnings\n",
    "m2=master3[master3['Married_New']=='m2'].earnings\n",
    "\n",
    "stat, p = ttest_ind(m1,m2)\n",
    "p"
   ]
  },
  {
   "cell_type": "code",
   "execution_count": 91,
   "metadata": {},
   "outputs": [
    {
     "data": {
      "text/plain": [
       "19389.036617262424"
      ]
     },
     "execution_count": 91,
     "metadata": {},
     "output_type": "execute_result"
    }
   ],
   "source": [
    "np.mean(m1)"
   ]
  },
  {
   "cell_type": "code",
   "execution_count": 93,
   "metadata": {},
   "outputs": [
    {
     "data": {
      "text/plain": [
       "(18720.20051509543, 20057.87271942942)"
      ]
     },
     "execution_count": 93,
     "metadata": {},
     "output_type": "execute_result"
    }
   ],
   "source": [
    "st.t.interval(0.95, len(m1)-1, loc=np.mean(m1), scale=st.sem(m1))"
   ]
  },
  {
   "cell_type": "code",
   "execution_count": 92,
   "metadata": {
    "scrolled": false
   },
   "outputs": [
    {
     "data": {
      "text/plain": [
       "18128.72017167382"
      ]
     },
     "execution_count": 92,
     "metadata": {},
     "output_type": "execute_result"
    }
   ],
   "source": [
    "np.mean(m2)"
   ]
  },
  {
   "cell_type": "code",
   "execution_count": 94,
   "metadata": {},
   "outputs": [
    {
     "data": {
      "text/plain": [
       "(17268.555759225124, 18988.884584122516)"
      ]
     },
     "execution_count": 94,
     "metadata": {},
     "output_type": "execute_result"
    }
   ],
   "source": [
    "st.t.interval(0.95, len(m2)-1, loc=np.mean(m2), scale=st.sem(m2))"
   ]
  },
  {
   "cell_type": "markdown",
   "metadata": {},
   "source": [
    "H0: Mariied and Other Peoples Average Earnings are equal\n",
    "H1: Mariied and Other Peoples Average Earnings are not equal\n",
    "\n",
    "Acccording to the t test pvalue is less than 0.05 that means we have to reject Ho at 95% level of confidence.\n",
    " \n",
    "It concludes that average earnings of married and other people is not eaqual and by looking at the summary stats we noticed \n",
    "that average earnings of married people (19389) is higher than average earrnmings of other people 18128\n",
    "\n",
    "\n",
    "95% confidence interval for Average earnings(per year) for married people (18720.20051509543, 20057.87271942942)\n",
    "\n",
    "95% confidence interval for Average earnings(per year) other people (17268.555759225124, 18988.884584122516)\n",
    " \n",
    "\n",
    "\n"
   ]
  },
  {
   "cell_type": "markdown",
   "metadata": {},
   "source": [
    "# T test to check whether people with age over 40 years earn more than the people with age less than 40 years"
   ]
  },
  {
   "cell_type": "code",
   "execution_count": 84,
   "metadata": {
    "collapsed": true
   },
   "outputs": [
    {
     "name": "stderr",
     "output_type": "stream",
     "text": [
      "C:\\Users\\Heshan Perera\\Anaconda3\\lib\\site-packages\\ipykernel_launcher.py:3: SettingWithCopyWarning: \n",
      "A value is trying to be set on a copy of a slice from a DataFrame.\n",
      "Try using .loc[row_indexer,col_indexer] = value instead\n",
      "\n",
      "See the caveats in the documentation: http://pandas.pydata.org/pandas-docs/stable/indexing.html#indexing-view-versus-copy\n",
      "  This is separate from the ipykernel package so we can avoid doing imports until\n"
     ]
    }
   ],
   "source": [
    "master3=master[master['earnings']>0]\n",
    "master3.shape\n",
    "master3['Ag_Cat']=np.where(master3['age']<40,\"less than 40\",\"over 40\")\n",
    "\n"
   ]
  },
  {
   "cell_type": "code",
   "execution_count": 85,
   "metadata": {},
   "outputs": [
    {
     "data": {
      "text/plain": [
       "2.5060497396711643e-06"
      ]
     },
     "execution_count": 85,
     "metadata": {},
     "output_type": "execute_result"
    }
   ],
   "source": [
    "m1=master3[master3['Ag_Cat']=='less than 40'].earnings\n",
    "m2=master3[master3['Ag_Cat']=='over 40'].earnings\n",
    "\n",
    "stat, p = ttest_ind(m1,m2)\n",
    "p"
   ]
  },
  {
   "cell_type": "code",
   "execution_count": 86,
   "metadata": {},
   "outputs": [
    {
     "data": {
      "text/plain": [
       "17901.47563261481"
      ]
     },
     "execution_count": 86,
     "metadata": {},
     "output_type": "execute_result"
    }
   ],
   "source": [
    "np.mean(m1)"
   ]
  },
  {
   "cell_type": "code",
   "execution_count": 87,
   "metadata": {},
   "outputs": [
    {
     "data": {
      "text/plain": [
       "(17232.00693238186, 18570.944332847757)"
      ]
     },
     "execution_count": 87,
     "metadata": {},
     "output_type": "execute_result"
    }
   ],
   "source": [
    "st.t.interval(0.95, len(m1)-1, loc=np.mean(m1), scale=st.sem(m1))"
   ]
  },
  {
   "cell_type": "code",
   "execution_count": 88,
   "metadata": {},
   "outputs": [
    {
     "data": {
      "text/plain": [
       "20401.56324110672"
      ]
     },
     "execution_count": 88,
     "metadata": {},
     "output_type": "execute_result"
    }
   ],
   "source": [
    "np.mean(m2)"
   ]
  },
  {
   "cell_type": "code",
   "execution_count": 89,
   "metadata": {},
   "outputs": [
    {
     "data": {
      "text/plain": [
       "(19604.987493851746, 21198.138988361694)"
      ]
     },
     "execution_count": 89,
     "metadata": {},
     "output_type": "execute_result"
    }
   ],
   "source": [
    "st.t.interval(0.95, len(m2)-1, loc=np.mean(m2), scale=st.sem(m2))"
   ]
  },
  {
   "cell_type": "markdown",
   "metadata": {},
   "source": [
    "H0: Average earnings of a person with age less than 40 is equal to Average earning of a person with age greater than or equal to 40 years\n",
    "\n",
    "H1:Average earnings of a person with age less than 40 is not equal to Average earning of a person with age greater than or equal to 40 years\n",
    "\n",
    "Since the p value of the T test is less than 0.05 we can reject H0 with a 95% level of confidence\n",
    "\n",
    "According to the sample Average earnings of a person with age less than 40 is equal to 17901 According to the sample Average earnings of a person with age greater than or equal to 40 is equal to 20401. Which shows that people with age over 40 years earns more than people with age less than 40\n",
    "\n",
    "95% confidence interval for Average earnings(per year) of a person with age age greater than or equal to 40 years (17232.00693238186, 18570.944332847757)\n",
    "\n",
    "95% confidence interval for Average earnings(per year) of a person with Low Educational Level (19604.987493851746, 21198.138988361694)\n",
    "\n"
   ]
  },
  {
   "cell_type": "markdown",
   "metadata": {},
   "source": [
    "# T test to check whether people with age over 40 years works more than the people with age less than 40 years"
   ]
  },
  {
   "cell_type": "code",
   "execution_count": 77,
   "metadata": {
    "collapsed": true
   },
   "outputs": [
    {
     "name": "stderr",
     "output_type": "stream",
     "text": [
      "C:\\Users\\Heshan Perera\\Anaconda3\\lib\\site-packages\\ipykernel_launcher.py:3: SettingWithCopyWarning: \n",
      "A value is trying to be set on a copy of a slice from a DataFrame.\n",
      "Try using .loc[row_indexer,col_indexer] = value instead\n",
      "\n",
      "See the caveats in the documentation: http://pandas.pydata.org/pandas-docs/stable/indexing.html#indexing-view-versus-copy\n",
      "  This is separate from the ipykernel package so we can avoid doing imports until\n"
     ]
    }
   ],
   "source": [
    "master3=master[master['hours']>0]\n",
    "master3.shape\n",
    "master3['Ag_Cat']=np.where(master3['age']<40,\"less than 40\",\"over 40\")\n"
   ]
  },
  {
   "cell_type": "code",
   "execution_count": 78,
   "metadata": {},
   "outputs": [
    {
     "data": {
      "text/plain": [
       "2.8967779055610274e-05"
      ]
     },
     "execution_count": 78,
     "metadata": {},
     "output_type": "execute_result"
    }
   ],
   "source": [
    "m1=master3[master3['Ag_Cat']=='less than 40'].hours\n",
    "m2=master3[master3['Ag_Cat']=='over 40'].hours\n",
    "\n",
    "stat, p = ttest_ind(m1,m2)\n",
    "p"
   ]
  },
  {
   "cell_type": "code",
   "execution_count": 79,
   "metadata": {},
   "outputs": [
    {
     "data": {
      "text/plain": [
       "1593.8561419897244"
      ]
     },
     "execution_count": 79,
     "metadata": {},
     "output_type": "execute_result"
    }
   ],
   "source": [
    "np.mean(m1)"
   ]
  },
  {
   "cell_type": "code",
   "execution_count": 80,
   "metadata": {},
   "outputs": [
    {
     "data": {
      "text/plain": [
       "(1562.4515770097912, 1625.2607069696576)"
      ]
     },
     "execution_count": 80,
     "metadata": {},
     "output_type": "execute_result"
    }
   ],
   "source": [
    "st.t.interval(0.95, len(m1)-1, loc=np.mean(m1), scale=st.sem(m1))"
   ]
  },
  {
   "cell_type": "code",
   "execution_count": 81,
   "metadata": {
    "scrolled": true
   },
   "outputs": [
    {
     "data": {
      "text/plain": [
       "1695.9606557377049"
      ]
     },
     "execution_count": 81,
     "metadata": {},
     "output_type": "execute_result"
    }
   ],
   "source": [
    "np.mean(m2)"
   ]
  },
  {
   "cell_type": "code",
   "execution_count": 82,
   "metadata": {},
   "outputs": [
    {
     "data": {
      "text/plain": [
       "(1660.3527598459957, 1731.568551629414)"
      ]
     },
     "execution_count": 82,
     "metadata": {},
     "output_type": "execute_result"
    }
   ],
   "source": [
    "st.t.interval(0.95, len(m2)-1, loc=np.mean(m2), scale=st.sem(m2))"
   ]
  },
  {
   "cell_type": "markdown",
   "metadata": {},
   "source": [
    "H0: Average working hours(per year) of a person with age less than 40 is equal to Average working hours of a person with age greater than or equal to 40 years \n",
    "\n",
    "H1:Average working hours(per year) of a person with age less than 40 is not equal to Average working hours(per year) of a person with age greater than or equal to 40 years\n",
    "\n",
    "Since the p value of the T test is less than 0.05 we can reject H0 with a 95% level of confidence\n",
    "\n",
    "According to the sample Average working hours(per year) of a person with age less than 40 is equal to 1593 According to the sample Average working hours(per year) of a person with age greater than or equal to 40 is equal to 1695. Which shows that people with age over 40 years works more hours per year than people with age less than 40\n",
    "\n",
    "95% confidence interval for Average working hours(per year) of a person with age less than 40 (1562.4515770097912, 1625.2607069696576)\n",
    "\n",
    "95% confidence interval for Average working hours(per year) of a person person with age greater than or equal to 40 years (1660.3527598459957, 1731.568551629414)"
   ]
  },
  {
   "cell_type": "markdown",
   "metadata": {},
   "source": [
    "# T test to check whether the earnings of people with high educational levels  are different  than  earnings of the people with low educational levels"
   ]
  },
  {
   "cell_type": "code",
   "execution_count": 43,
   "metadata": {
    "collapsed": true
   },
   "outputs": [
    {
     "name": "stderr",
     "output_type": "stream",
     "text": [
      "C:\\Users\\Heshan Perera\\Anaconda3\\lib\\site-packages\\ipykernel_launcher.py:4: SettingWithCopyWarning: \n",
      "A value is trying to be set on a copy of a slice from a DataFrame.\n",
      "Try using .loc[row_indexer,col_indexer] = value instead\n",
      "\n",
      "See the caveats in the documentation: http://pandas.pydata.org/pandas-docs/stable/indexing.html#indexing-view-versus-copy\n",
      "  after removing the cwd from sys.path.\n"
     ]
    }
   ],
   "source": [
    "master3=master[master['educatn']<98]\n",
    "master4=master3[master3['earnings']>0]\n",
    "master4.shape\n",
    "master4['Ed_Cat']=np.where(master4['educatn']<14,\"low\",\"High\")"
   ]
  },
  {
   "cell_type": "code",
   "execution_count": 71,
   "metadata": {},
   "outputs": [
    {
     "data": {
      "text/plain": [
       "7.713331104329767e-95"
      ]
     },
     "execution_count": 71,
     "metadata": {},
     "output_type": "execute_result"
    }
   ],
   "source": [
    "m1=master4[master4['Ed_Cat']=='low'].earnings\n",
    "m2=master4[master4['Ed_Cat']=='High'].earnings\n",
    "\n",
    "stat, p = ttest_ind(m1,m2)\n",
    "p"
   ]
  },
  {
   "cell_type": "code",
   "execution_count": 72,
   "metadata": {},
   "outputs": [
    {
     "data": {
      "text/plain": [
       "14901.589937666964"
      ]
     },
     "execution_count": 72,
     "metadata": {},
     "output_type": "execute_result"
    }
   ],
   "source": [
    "np.mean(m1)"
   ]
  },
  {
   "cell_type": "code",
   "execution_count": 73,
   "metadata": {},
   "outputs": [
    {
     "data": {
      "text/plain": [
       "(14433.644954567146, 15369.534920766782)"
      ]
     },
     "execution_count": 73,
     "metadata": {},
     "output_type": "execute_result"
    }
   ],
   "source": [
    "st.t.interval(0.95, len(m1)-1, loc=np.mean(m1), scale=st.sem(m1))"
   ]
  },
  {
   "cell_type": "code",
   "execution_count": 74,
   "metadata": {
    "scrolled": true
   },
   "outputs": [
    {
     "data": {
      "text/plain": [
       "26087.509508716324"
      ]
     },
     "execution_count": 74,
     "metadata": {},
     "output_type": "execute_result"
    }
   ],
   "source": [
    "np.mean(m2)"
   ]
  },
  {
   "cell_type": "code",
   "execution_count": 75,
   "metadata": {},
   "outputs": [
    {
     "data": {
      "text/plain": [
       "(24994.934095784818, 27180.08492164783)"
      ]
     },
     "execution_count": 75,
     "metadata": {},
     "output_type": "execute_result"
    }
   ],
   "source": [
    "st.t.interval(0.95, len(m2)-1, loc=np.mean(m2), scale=st.sem(m2))"
   ]
  },
  {
   "cell_type": "markdown",
   "metadata": {},
   "source": [
    "H0: Average earnings of a person with High Educational Level is equal to Average earning of a person with Low Educational Level\n",
    "\n",
    "H1:Average earnings of a person with High Educational Level is not equal to Average earning of a person with Low Educational Level\n",
    "\n",
    "Since the p value of the T test is less than 0.05 we can reject H0 with a 95% level of confidence\n",
    "\n",
    "According to the sample Average earnings of a person High Educational Level(14 to 17) is equal to 26087 According to the sample Average earnings of a person with Low Educational Level(less than 14) is equal to 14901. Which shows that people with High Educational levels earns more than the people with low educational levels\n",
    "\n",
    "95% confidence interval for Average earnings(per year) of a person with High Educational Level ((24994.934095784818, 27180.08492164783)\n",
    "\n",
    "95% confidence interval for Average earnings(per year) of a person with Low Educational Level (14433.644954567146, 15369.534920766782)\n",
    "\n"
   ]
  },
  {
   "cell_type": "markdown",
   "metadata": {},
   "source": [
    "# T test to check whether working hours of people with high educational levels  are different than the working hours of people with low educational levels"
   ]
  },
  {
   "cell_type": "code",
   "execution_count": 51,
   "metadata": {},
   "outputs": [
    {
     "data": {
      "text/plain": [
       "0.09417055559257596"
      ]
     },
     "execution_count": 51,
     "metadata": {},
     "output_type": "execute_result"
    }
   ],
   "source": [
    "m1=master4[master4['Ed_Cat']=='low'].hours\n",
    "m2=master4[master4['Ed_Cat']=='High'].hours\n",
    "\n",
    "stat, p = ttest_ind(m1,m2)\n",
    "p"
   ]
  },
  {
   "cell_type": "code",
   "execution_count": 58,
   "metadata": {
    "scrolled": false
   },
   "outputs": [
    {
     "data": {
      "text/plain": [
       "DescribeResult(nobs=2246, minmax=(6, 5160), mean=1620.3490650044523, variance=539175.0638454505, skewness=-0.24914196094497612, kurtosis=0.9774515488003894)"
      ]
     },
     "execution_count": 58,
     "metadata": {},
     "output_type": "execute_result"
    }
   ],
   "source": [
    "stats.describe(m1)"
   ]
  },
  {
   "cell_type": "code",
   "execution_count": 68,
   "metadata": {},
   "outputs": [
    {
     "data": {
      "text/plain": [
       "(1589.9652488287225, 1650.7328811801822)"
      ]
     },
     "execution_count": 68,
     "metadata": {},
     "output_type": "execute_result"
    }
   ],
   "source": [
    "st.t.interval(0.95, len(m1)-1, loc=np.mean(m1), scale=st.sem(m1))"
   ]
  },
  {
   "cell_type": "code",
   "execution_count": 60,
   "metadata": {},
   "outputs": [
    {
     "data": {
      "text/plain": [
       "DescribeResult(nobs=1262, minmax=(7, 4821), mean=1663.1584786053884, variance=508825.6449677073, skewness=-0.18024880550149047, kurtosis=0.7264489197730679)"
      ]
     },
     "execution_count": 60,
     "metadata": {},
     "output_type": "execute_result"
    }
   ],
   "source": [
    "stats.describe(m2)"
   ]
  },
  {
   "cell_type": "code",
   "execution_count": 69,
   "metadata": {},
   "outputs": [
    {
     "data": {
      "text/plain": [
       "(1623.7653967771334, 1702.5515604336433)"
      ]
     },
     "execution_count": 69,
     "metadata": {},
     "output_type": "execute_result"
    }
   ],
   "source": [
    "st.t.interval(0.95, len(m2)-1, loc=np.mean(m2), scale=st.sem(m2))"
   ]
  },
  {
   "cell_type": "markdown",
   "metadata": {},
   "source": [
    "H0: Average working hours(per year) of a person with High Educational Level is equal to Average working hours of a person with Low Educational Level\n",
    "\n",
    "H1:Average working hours(per year) of a person with High Educational Level is not equal to Average working hours(per year) of a person with Low Educational Level\n",
    "\n",
    "Since the p value of the T test is not less than 0.05 we do not reject H0 with a 95% level of confidence\n",
    "\n",
    "According to the sample Average working hours(per year) of a person with High Educational is equal to 1663 According to the sample Average working hours(per year) of a person with Low Educational is equal to 1620. This shows that there is not significant difference between working hours of a person with high educational level and a person with a low educational level.\n",
    "\n",
    "95% confidence interval for Average working hours(per year) of a person with High Educational Level\n",
    "(1623.7653967771334, 1702.5515604336433)\n",
    "\n",
    "95% confidence interval for Average working hours(per year) of a person with Low Educational Level\n",
    "(1589.9652488287225, 1650.7328811801822)\n",
    "\n"
   ]
  }
 ],
 "metadata": {
  "kernelspec": {
   "display_name": "Python 3",
   "language": "python",
   "name": "python3"
  },
  "language_info": {
   "codemirror_mode": {
    "name": "ipython",
    "version": 3
   },
   "file_extension": ".py",
   "mimetype": "text/x-python",
   "name": "python",
   "nbconvert_exporter": "python",
   "pygments_lexer": "ipython3",
   "version": "3.7.1"
  }
 },
 "nbformat": 4,
 "nbformat_minor": 2
}
